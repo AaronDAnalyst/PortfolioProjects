{
 "cells": [
  {
   "cell_type": "code",
   "execution_count": 10,
   "id": "82f94de0-9716-4b0c-8d04-95ddc8103f08",
   "metadata": {
    "tags": []
   },
   "outputs": [
    {
     "name": "stdin",
     "output_type": "stream",
     "text": [
      "Enter your name:  Aaron\n",
      "Enter your weight in pounds:  220\n",
      "Enter your height in inches:  71\n"
     ]
    }
   ],
   "source": [
    "name = input(\"Enter your name: \")\n",
    "\n",
    "weight = int(input(\"Enter your weight in pounds: \"))\n",
    "\n",
    "height = int(input(\"Enter your height in inches: \"))\n",
    "\n",
    "BMI = (weight * 703) / (height * height)\n",
    "\n",
    "\n"
   ]
  },
  {
   "cell_type": "code",
   "execution_count": 7,
   "id": "ae4f3872-2661-4e12-bdf2-0f29e737c69b",
   "metadata": {
    "tags": []
   },
   "outputs": [
    {
     "name": "stdout",
     "output_type": "stream",
     "text": [
      "30.68042055147788\n"
     ]
    }
   ],
   "source": [
    "print(BMI)"
   ]
  },
  {
   "cell_type": "code",
   "execution_count": 16,
   "id": "048c544a-b453-4593-9333-7824f79618c0",
   "metadata": {
    "tags": []
   },
   "outputs": [
    {
     "name": "stdin",
     "output_type": "stream",
     "text": [
      "Enter your name:  Aaron\n",
      "Enter your weight in pounds:  220\n",
      "Enter your height in inches:  71\n"
     ]
    },
    {
     "name": "stdout",
     "output_type": "stream",
     "text": [
      "30.68042055147788\n",
      "Aaron,you are obese. You need to exercise more consistently and make less Data analyst projects\n"
     ]
    }
   ],
   "source": [
    "name = input(\"Enter your name: \")\n",
    "\n",
    "weight = int(input(\"Enter your weight in pounds: \"))\n",
    "\n",
    "height = int(input(\"Enter your height in inches: \"))\n",
    "\n",
    "BMI = (weight * 703) / (height * height)\n",
    "\n",
    "print(BMI)\n",
    "\n",
    "\n",
    "if BMI > 0:\n",
    "    if(BMI<18.5):\n",
    "        print(name +\",you are underweight.\")\n",
    "    elif(BMI<=24.9):\n",
    "        print(name +\",you are underweight.\")\n",
    "    elif(BMI<29.9):\n",
    "        print(name +\",you are overweight.\")\n",
    "    elif(BMI<34.9):\n",
    "        print(name +\",you are obese. You need to exercise more consistently and make less Data analyst projects\")\n",
    "    elif(BMI<39.9):\n",
    "        print(name +\",you are severly obese.\")\n",
    "    else:\n",
    "        print(name +\",You are morbidly obese.\") "
   ]
  },
  {
   "cell_type": "code",
   "execution_count": null,
   "id": "52eac938-72fd-4cfb-9763-5811f02c32e6",
   "metadata": {},
   "outputs": [],
   "source": []
  },
  {
   "cell_type": "code",
   "execution_count": null,
   "id": "acc33918-c92b-4976-9a31-495bae002303",
   "metadata": {},
   "outputs": [],
   "source": [
    "#BMI =(weight in pounds x 703) / (height in inches x height in inches)"
   ]
  },
  {
   "cell_type": "code",
   "execution_count": null,
   "id": "ef8f4908-7cdc-4f16-bdd7-021b12771169",
   "metadata": {},
   "outputs": [],
   "source": []
  },
  {
   "cell_type": "code",
   "execution_count": null,
   "id": "79691e0b-51d0-45d4-9add-e0ba32d51d14",
   "metadata": {},
   "outputs": [],
   "source": []
  },
  {
   "cell_type": "code",
   "execution_count": null,
   "id": "0fc69e86-1137-4ee1-8a31-f4809f9b114d",
   "metadata": {},
   "outputs": [],
   "source": []
  }
 ],
 "metadata": {
  "kernelspec": {
   "display_name": "Python 3 (ipykernel)",
   "language": "python",
   "name": "python3"
  },
  "language_info": {
   "codemirror_mode": {
    "name": "ipython",
    "version": 3
   },
   "file_extension": ".py",
   "mimetype": "text/x-python",
   "name": "python",
   "nbconvert_exporter": "python",
   "pygments_lexer": "ipython3",
   "version": "3.11.3"
  }
 },
 "nbformat": 4,
 "nbformat_minor": 5
}
